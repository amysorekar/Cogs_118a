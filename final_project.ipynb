{
 "cells": [
  {
   "cell_type": "markdown",
   "metadata": {},
   "source": [
    "# Anand Mysorekar\n",
    "\n",
    "## Cogs 118a FA24 Final Project"
   ]
  },
  {
   "cell_type": "markdown",
   "metadata": {},
   "source": [
    "# Abstract\n",
    "\n",
    "This project evaluates the performance of three classification models—Random Forest, Support Vector Machine (SVM), and Logistic Regression—on three datasets from the UCI Machine Learning Repository. Each dataset is structured for binary classification, and the models are trained using hyperparameter tuning and evaluated under varying data partitions (20/80, 50/50, 80/20 splits). Metrics such as training, validation, and test accuracy are used to compare the models' effectiveness. Results show that Random Forest consistently achieves the highest accuracy across datasets, while SVM and Logistic Regression demonstrate varying strengths depending on the data's complexity and feature distribution. This study highlights the importance of selecting appropriate classifiers and hyperparameters for different datasets and provides insights into model behavior under different training-to-testing ratios.\n",
    "\n"
   ]
  },
  {
   "cell_type": "markdown",
   "metadata": {},
   "source": [
    "# Introduction\n",
    "\n",
    "Classification is a fundamental task in machine learning, where the goal is to assign inputs to predefined categories. Binary classification, in particular, has widespread applications such as identifying spam emails, diagnosing medical conditions, and predicting customer churn. Selecting the appropriate classification model is critical for achieving high accuracy and robustness across different datasets.\n",
    "\n",
    "The performance of a classifier often depends on the dataset's characteristics, such as the number of features, the size of the training set, and the feature distributions. Comparing multiple classifiers on the same datasets provides insights into their strengths, weaknesses, and generalizability.\n",
    "\n",
    "This project aims to evaluate and compare the performance of three popular classification models on three classification datasets. By exploring their behavior under different training/testing splits and tuning hyperparameters, this study seeks to identify general trends and best practices in classifier selection."
   ]
  },
  {
   "cell_type": "markdown",
   "metadata": {},
   "source": [
    "# Data Preprocessing"
   ]
  },
  {
   "cell_type": "markdown",
   "metadata": {},
   "source": [
    "## Imports"
   ]
  },
  {
   "cell_type": "code",
   "execution_count": 1,
   "metadata": {},
   "outputs": [],
   "source": [
    "import pandas as pd\n",
    "import numpy as np\n",
    "import matplotlib.pyplot as plt\n",
    "import seaborn as sns\n",
    "from tqdm.notebook import tqdm\n",
    "\n",
    "from sklearn.model_selection import train_test_split, GridSearchCV, cross_val_score\n",
    "from sklearn.preprocessing import LabelEncoder, StandardScaler\n",
    "from sklearn.svm import SVC\n",
    "from sklearn.ensemble import RandomForestClassifier\n",
    "from sklearn.linear_model import LogisticRegression\n",
    "from sklearn.metrics import accuracy_score, classification_report, ConfusionMatrixDisplay"
   ]
  },
  {
   "cell_type": "markdown",
   "metadata": {},
   "source": [
    "## Dataset 1: [Adult](http://archive.ics.uci.edu/dataset/2/adult)\n",
    "Predicting whether annual income of an individual exceeds $50K/yr based on census data. 48,842 instances, 14 features.\n"
   ]
  },
  {
   "cell_type": "markdown",
   "metadata": {},
   "source": [
    "### Load data and assign column names"
   ]
  },
  {
   "cell_type": "code",
   "execution_count": 2,
   "metadata": {},
   "outputs": [
    {
     "name": "stdout",
     "output_type": "stream",
     "text": [
      "age                 int64\n",
      "class              object\n",
      "education_level    object\n",
      "marital_status     object\n",
      "occupation         object\n",
      "relationship       object\n",
      "race               object\n",
      "sex                object\n",
      "capital_gains       int64\n",
      "capital_loss        int64\n",
      "hours_per_week      int64\n",
      "native_country     object\n",
      "salary             object\n",
      "dtype: object\n"
     ]
    },
    {
     "data": {
      "text/html": [
       "<div>\n",
       "<style scoped>\n",
       "    .dataframe tbody tr th:only-of-type {\n",
       "        vertical-align: middle;\n",
       "    }\n",
       "\n",
       "    .dataframe tbody tr th {\n",
       "        vertical-align: top;\n",
       "    }\n",
       "\n",
       "    .dataframe thead th {\n",
       "        text-align: right;\n",
       "    }\n",
       "</style>\n",
       "<table border=\"1\" class=\"dataframe\">\n",
       "  <thead>\n",
       "    <tr style=\"text-align: right;\">\n",
       "      <th></th>\n",
       "      <th>age</th>\n",
       "      <th>class</th>\n",
       "      <th>education_level</th>\n",
       "      <th>marital_status</th>\n",
       "      <th>occupation</th>\n",
       "      <th>relationship</th>\n",
       "      <th>race</th>\n",
       "      <th>sex</th>\n",
       "      <th>capital_gains</th>\n",
       "      <th>capital_loss</th>\n",
       "      <th>hours_per_week</th>\n",
       "      <th>native_country</th>\n",
       "      <th>salary</th>\n",
       "    </tr>\n",
       "  </thead>\n",
       "  <tbody>\n",
       "    <tr>\n",
       "      <th>0</th>\n",
       "      <td>39</td>\n",
       "      <td>State-gov</td>\n",
       "      <td>Bachelors</td>\n",
       "      <td>Never-married</td>\n",
       "      <td>Adm-clerical</td>\n",
       "      <td>Not-in-family</td>\n",
       "      <td>White</td>\n",
       "      <td>Male</td>\n",
       "      <td>2174</td>\n",
       "      <td>0</td>\n",
       "      <td>40</td>\n",
       "      <td>United-States</td>\n",
       "      <td>&lt;=50K</td>\n",
       "    </tr>\n",
       "    <tr>\n",
       "      <th>1</th>\n",
       "      <td>50</td>\n",
       "      <td>Self-emp-not-inc</td>\n",
       "      <td>Bachelors</td>\n",
       "      <td>Married-civ-spouse</td>\n",
       "      <td>Exec-managerial</td>\n",
       "      <td>Husband</td>\n",
       "      <td>White</td>\n",
       "      <td>Male</td>\n",
       "      <td>0</td>\n",
       "      <td>0</td>\n",
       "      <td>13</td>\n",
       "      <td>United-States</td>\n",
       "      <td>&lt;=50K</td>\n",
       "    </tr>\n",
       "    <tr>\n",
       "      <th>2</th>\n",
       "      <td>38</td>\n",
       "      <td>Private</td>\n",
       "      <td>HS-grad</td>\n",
       "      <td>Divorced</td>\n",
       "      <td>Handlers-cleaners</td>\n",
       "      <td>Not-in-family</td>\n",
       "      <td>White</td>\n",
       "      <td>Male</td>\n",
       "      <td>0</td>\n",
       "      <td>0</td>\n",
       "      <td>40</td>\n",
       "      <td>United-States</td>\n",
       "      <td>&lt;=50K</td>\n",
       "    </tr>\n",
       "    <tr>\n",
       "      <th>3</th>\n",
       "      <td>53</td>\n",
       "      <td>Private</td>\n",
       "      <td>11th</td>\n",
       "      <td>Married-civ-spouse</td>\n",
       "      <td>Handlers-cleaners</td>\n",
       "      <td>Husband</td>\n",
       "      <td>Black</td>\n",
       "      <td>Male</td>\n",
       "      <td>0</td>\n",
       "      <td>0</td>\n",
       "      <td>40</td>\n",
       "      <td>United-States</td>\n",
       "      <td>&lt;=50K</td>\n",
       "    </tr>\n",
       "    <tr>\n",
       "      <th>4</th>\n",
       "      <td>28</td>\n",
       "      <td>Private</td>\n",
       "      <td>Bachelors</td>\n",
       "      <td>Married-civ-spouse</td>\n",
       "      <td>Prof-specialty</td>\n",
       "      <td>Wife</td>\n",
       "      <td>Black</td>\n",
       "      <td>Female</td>\n",
       "      <td>0</td>\n",
       "      <td>0</td>\n",
       "      <td>40</td>\n",
       "      <td>Cuba</td>\n",
       "      <td>&lt;=50K</td>\n",
       "    </tr>\n",
       "  </tbody>\n",
       "</table>\n",
       "</div>"
      ],
      "text/plain": [
       "   age              class education_level       marital_status  \\\n",
       "0   39          State-gov       Bachelors        Never-married   \n",
       "1   50   Self-emp-not-inc       Bachelors   Married-civ-spouse   \n",
       "2   38            Private         HS-grad             Divorced   \n",
       "3   53            Private            11th   Married-civ-spouse   \n",
       "4   28            Private       Bachelors   Married-civ-spouse   \n",
       "\n",
       "           occupation    relationship    race      sex  capital_gains  \\\n",
       "0        Adm-clerical   Not-in-family   White     Male           2174   \n",
       "1     Exec-managerial         Husband   White     Male              0   \n",
       "2   Handlers-cleaners   Not-in-family   White     Male              0   \n",
       "3   Handlers-cleaners         Husband   Black     Male              0   \n",
       "4      Prof-specialty            Wife   Black   Female              0   \n",
       "\n",
       "   capital_loss  hours_per_week  native_country  salary  \n",
       "0             0              40   United-States   <=50K  \n",
       "1             0              13   United-States   <=50K  \n",
       "2             0              40   United-States   <=50K  \n",
       "3             0              40   United-States   <=50K  \n",
       "4             0              40            Cuba   <=50K  "
      ]
     },
     "execution_count": 2,
     "metadata": {},
     "output_type": "execute_result"
    }
   ],
   "source": [
    "column_names = [\n",
    "    \"age\",\n",
    "    \"class\",\n",
    "    \"fnlwgt\", # drop\n",
    "    \"education_level\",\n",
    "    \"education-num\", # drop\n",
    "    \"marital_status\",\n",
    "    \"occupation\",\n",
    "    \"relationship\",\n",
    "    \"race\",\n",
    "    \"sex\",\n",
    "    \"capital_gains\",\n",
    "    \"capital_loss\",\n",
    "    \"hours_per_week\",\n",
    "    \"native_country\",\n",
    "    \"salary\"\n",
    "]\n",
    "\n",
    "\n",
    "adult_dataset = pd.read_csv('adult_dataset/adult.data', names=column_names) # read the dataset\n",
    "adult_dataset = adult_dataset.drop(columns=[\"fnlwgt\", \"education-num\"]) # drop these columns\n",
    "adult_dataset = adult_dataset[~adult_dataset.map(lambda x: str(x).strip()).isin(['?']).any(axis=1)] # remove rows with missing values\n",
    "\n",
    "print(adult_dataset.dtypes)\n",
    "adult_dataset.head()"
   ]
  },
  {
   "cell_type": "markdown",
   "metadata": {},
   "source": [
    "Most of the features are categorical, so we will need to encode them before training the models. Many of the features have lots of possible values, so we will group them into fewer categories to reduce the dimensionality of the data.\n"
   ]
  },
  {
   "cell_type": "markdown",
   "metadata": {},
   "source": [
    "### Group similar values for dimensionality reduction for effecient encoding"
   ]
  },
  {
   "cell_type": "code",
   "execution_count": 3,
   "metadata": {},
   "outputs": [
    {
     "name": "stdout",
     "output_type": "stream",
     "text": [
      "['Government' 'Self-employed' 'Private' 'Other']\n",
      "['Undergraduate' 'Lower Education' 'Postgraduate']\n",
      "['Single' 'Married' 'Previously Married']\n",
      "['White-collar' 'Blue-collar' 'Service' 'Military']\n",
      "['Unrelated' 'Spouse' 'Dependent']\n",
      "['White' 'Black' 'Asian' 'Indigenous' 'Other']\n",
      "[1 0]\n",
      "['North America' 'Latin America' 'Asia' 'Europe' 'Middle East' 'Other']\n",
      "[0 1]\n"
     ]
    }
   ],
   "source": [
    "class_mapping = {\n",
    "    'Private': 'Private',\n",
    "    'Self-emp-not-inc': 'Self-employed',\n",
    "    'Self-emp-inc': 'Self-employed',\n",
    "    'Federal-gov': 'Government',\n",
    "    'Local-gov': 'Government',\n",
    "    'State-gov': 'Government',\n",
    "    'Without-pay': 'Other',\n",
    "    'Never-worked': 'Other'\n",
    "}\n",
    "\n",
    "adult_dataset['class'] = adult_dataset['class'].str.strip()\n",
    "adult_dataset['class'] = adult_dataset['class'].map(class_mapping)\n",
    "print(adult_dataset['class'].unique())\n",
    "\n",
    "\n",
    "education_mapping = {\n",
    "    'Bachelors': 'Undergraduate',\n",
    "    'Some-college': 'Undergraduate',\n",
    "    'Assoc-acdm': 'Undergraduate',\n",
    "    'Assoc-voc': 'Undergraduate',\n",
    "    'Masters': 'Postgraduate',\n",
    "    'Doctorate': 'Postgraduate',\n",
    "    'Prof-school': 'Postgraduate',\n",
    "    'HS-grad': 'Lower Education',\n",
    "    '12th': 'Lower Education',\n",
    "    '11th': 'Lower Education',\n",
    "    '10th': 'Lower Education',\n",
    "    '9th': 'Lower Education',\n",
    "    '7th-8th': 'Lower Education',\n",
    "    '5th-6th': 'Lower Education',\n",
    "    '1st-4th': 'Lower Education',\n",
    "    'Preschool': 'Lower Education'\n",
    "}\n",
    "\n",
    "adult_dataset['education_level'] = adult_dataset['education_level'].str.strip()\n",
    "adult_dataset['education_level'] = adult_dataset['education_level'].map(education_mapping)\n",
    "print(adult_dataset['education_level'].unique())\n",
    "\n",
    "\n",
    "marital_mapping = {\n",
    "    'Never-married': 'Single',\n",
    "    'Married-civ-spouse': 'Married',\n",
    "    'Married-AF-spouse': 'Married',\n",
    "    'Divorced': 'Previously Married',\n",
    "    'Separated': 'Previously Married',\n",
    "    'Widowed': 'Previously Married',\n",
    "    'Married-spouse-absent': 'Married'\n",
    "}\n",
    "\n",
    "adult_dataset['marital_status'] = adult_dataset['marital_status'].str.strip()\n",
    "adult_dataset['marital_status'] = adult_dataset['marital_status'].map(marital_mapping)\n",
    "print(adult_dataset['marital_status'].unique())\n",
    "\n",
    "\n",
    "occupation_mapping = {\n",
    "    'Tech-support': 'White-collar',\n",
    "    'Craft-repair': 'Blue-collar',\n",
    "    'Other-service': 'Service',\n",
    "    'Sales': 'White-collar',\n",
    "    'Exec-managerial': 'White-collar',\n",
    "    'Prof-specialty': 'White-collar',\n",
    "    'Handlers-cleaners': 'Blue-collar',\n",
    "    'Machine-op-inspct': 'Blue-collar',\n",
    "    'Adm-clerical': 'White-collar',\n",
    "    'Farming-fishing': 'Blue-collar',\n",
    "    'Transport-moving': 'Blue-collar',\n",
    "    'Priv-house-serv': 'Service',\n",
    "    'Protective-serv': 'Service',\n",
    "    'Armed-Forces': 'Military'\n",
    "}\n",
    "\n",
    "adult_dataset['occupation'] = adult_dataset['occupation'].str.strip()\n",
    "adult_dataset['occupation'] = adult_dataset['occupation'].map(occupation_mapping)\n",
    "print(adult_dataset['occupation'].unique())\n",
    "\n",
    "\n",
    "relationship_mapping = {\n",
    "    'Wife': 'Spouse',\n",
    "    'Husband': 'Spouse',\n",
    "    'Own-child': 'Dependent',\n",
    "    'Not-in-family': 'Unrelated',\n",
    "    'Other-relative': 'Dependent',\n",
    "    'Unmarried': 'Unrelated'\n",
    "}\n",
    "\n",
    "adult_dataset['relationship'] = adult_dataset['relationship'].str.strip()\n",
    "adult_dataset['relationship'] = adult_dataset['relationship'].map(relationship_mapping)\n",
    "print(adult_dataset['relationship'].unique())\n",
    "\n",
    "\n",
    "race_mapping = {\n",
    "    'White': 'White',\n",
    "    'Black': 'Black',\n",
    "    'Asian-Pac-Islander': 'Asian',\n",
    "    'Amer-Indian-Eskimo': 'Indigenous',\n",
    "    'Other': 'Other'\n",
    "}\n",
    "\n",
    "adult_dataset['race'] = adult_dataset['race'].str.strip()\n",
    "adult_dataset['race'] = adult_dataset['race'].map(race_mapping)\n",
    "print(adult_dataset['race'].unique())\n",
    "\n",
    "\n",
    "sex_mapping = {\n",
    "    'Male': 1,\n",
    "    'Female': 0\n",
    "}\n",
    "\n",
    "adult_dataset['sex'] = adult_dataset['sex'].str.strip()\n",
    "adult_dataset['sex'] = adult_dataset['sex'].map(sex_mapping)\n",
    "print(adult_dataset['sex'].unique())\n",
    "\n",
    "\n",
    "country_mapping = {\n",
    "    'United-States': 'North America',\n",
    "    'Canada': 'North America',\n",
    "    'Outlying-US(Guam-USVI-etc)': 'North America',\n",
    "    'Puerto-Rico': 'North America',\n",
    "    'Mexico': 'Latin America',\n",
    "    'Cuba': 'Latin America',\n",
    "    'Dominican-Republic': 'Latin America',\n",
    "    'Jamaica': 'Latin America',\n",
    "    'Haiti': 'Latin America',\n",
    "    'Trinadad&Tobago': 'Latin America',\n",
    "    'El-Salvador': 'Latin America',\n",
    "    'Guatemala': 'Latin America',\n",
    "    'Honduras': 'Latin America',\n",
    "    'Nicaragua': 'Latin America',\n",
    "    'Ecuador': 'Latin America',\n",
    "    'Peru': 'Latin America',\n",
    "    'Columbia': 'Latin America',\n",
    "    'England': 'Europe',\n",
    "    'Germany': 'Europe',\n",
    "    'Italy': 'Europe',\n",
    "    'Poland': 'Europe',\n",
    "    'Portugal': 'Europe',\n",
    "    'Ireland': 'Europe',\n",
    "    'France': 'Europe',\n",
    "    'Greece': 'Europe',\n",
    "    'Scotland': 'Europe',\n",
    "    'Yugoslavia': 'Europe',\n",
    "    'Hungary': 'Europe',\n",
    "    'Holand-Netherlands': 'Europe',\n",
    "    'Cambodia': 'Asia',\n",
    "    'India': 'Asia',\n",
    "    'Japan': 'Asia',\n",
    "    'China': 'Asia',\n",
    "    'Philippines': 'Asia',\n",
    "    'Vietnam': 'Asia',\n",
    "    'Laos': 'Asia',\n",
    "    'Thailand': 'Asia',\n",
    "    'Hong': 'Asia',\n",
    "    'Taiwan': 'Asia',\n",
    "    'Iran': 'Middle East',\n",
    "    'South': 'Other',\n",
    "    'Israel': 'Middle East',  \n",
    "    'Other': 'Other'\n",
    "}\n",
    "\n",
    "adult_dataset['native_country'] = adult_dataset['native_country'].str.strip()\n",
    "adult_dataset['native_country'] = adult_dataset['native_country'].map(country_mapping)\n",
    "print(adult_dataset['native_country'].unique())\n",
    "\n",
    "\n",
    "salary_mapping = {\n",
    "    '>50K': 1,\n",
    "    '<=50K': 0\n",
    "}\n",
    "\n",
    "adult_dataset['salary'] = adult_dataset['salary'].str.strip()\n",
    "adult_dataset['salary'] = adult_dataset['salary'].map(salary_mapping)\n",
    "print(adult_dataset['salary'].unique())"
   ]
  },
  {
   "cell_type": "code",
   "execution_count": 4,
   "metadata": {},
   "outputs": [
    {
     "data": {
      "text/html": [
       "<div>\n",
       "<style scoped>\n",
       "    .dataframe tbody tr th:only-of-type {\n",
       "        vertical-align: middle;\n",
       "    }\n",
       "\n",
       "    .dataframe tbody tr th {\n",
       "        vertical-align: top;\n",
       "    }\n",
       "\n",
       "    .dataframe thead th {\n",
       "        text-align: right;\n",
       "    }\n",
       "</style>\n",
       "<table border=\"1\" class=\"dataframe\">\n",
       "  <thead>\n",
       "    <tr style=\"text-align: right;\">\n",
       "      <th></th>\n",
       "      <th>age</th>\n",
       "      <th>class</th>\n",
       "      <th>education_level</th>\n",
       "      <th>marital_status</th>\n",
       "      <th>occupation</th>\n",
       "      <th>relationship</th>\n",
       "      <th>race</th>\n",
       "      <th>sex</th>\n",
       "      <th>capital_gains</th>\n",
       "      <th>capital_loss</th>\n",
       "      <th>hours_per_week</th>\n",
       "      <th>native_country</th>\n",
       "      <th>salary</th>\n",
       "    </tr>\n",
       "  </thead>\n",
       "  <tbody>\n",
       "    <tr>\n",
       "      <th>0</th>\n",
       "      <td>39</td>\n",
       "      <td>Government</td>\n",
       "      <td>Undergraduate</td>\n",
       "      <td>Single</td>\n",
       "      <td>White-collar</td>\n",
       "      <td>Unrelated</td>\n",
       "      <td>White</td>\n",
       "      <td>1</td>\n",
       "      <td>2174</td>\n",
       "      <td>0</td>\n",
       "      <td>40</td>\n",
       "      <td>North America</td>\n",
       "      <td>0</td>\n",
       "    </tr>\n",
       "    <tr>\n",
       "      <th>1</th>\n",
       "      <td>50</td>\n",
       "      <td>Self-employed</td>\n",
       "      <td>Undergraduate</td>\n",
       "      <td>Married</td>\n",
       "      <td>White-collar</td>\n",
       "      <td>Spouse</td>\n",
       "      <td>White</td>\n",
       "      <td>1</td>\n",
       "      <td>0</td>\n",
       "      <td>0</td>\n",
       "      <td>13</td>\n",
       "      <td>North America</td>\n",
       "      <td>0</td>\n",
       "    </tr>\n",
       "    <tr>\n",
       "      <th>2</th>\n",
       "      <td>38</td>\n",
       "      <td>Private</td>\n",
       "      <td>Lower Education</td>\n",
       "      <td>Previously Married</td>\n",
       "      <td>Blue-collar</td>\n",
       "      <td>Unrelated</td>\n",
       "      <td>White</td>\n",
       "      <td>1</td>\n",
       "      <td>0</td>\n",
       "      <td>0</td>\n",
       "      <td>40</td>\n",
       "      <td>North America</td>\n",
       "      <td>0</td>\n",
       "    </tr>\n",
       "    <tr>\n",
       "      <th>3</th>\n",
       "      <td>53</td>\n",
       "      <td>Private</td>\n",
       "      <td>Lower Education</td>\n",
       "      <td>Married</td>\n",
       "      <td>Blue-collar</td>\n",
       "      <td>Spouse</td>\n",
       "      <td>Black</td>\n",
       "      <td>1</td>\n",
       "      <td>0</td>\n",
       "      <td>0</td>\n",
       "      <td>40</td>\n",
       "      <td>North America</td>\n",
       "      <td>0</td>\n",
       "    </tr>\n",
       "    <tr>\n",
       "      <th>4</th>\n",
       "      <td>28</td>\n",
       "      <td>Private</td>\n",
       "      <td>Undergraduate</td>\n",
       "      <td>Married</td>\n",
       "      <td>White-collar</td>\n",
       "      <td>Spouse</td>\n",
       "      <td>Black</td>\n",
       "      <td>0</td>\n",
       "      <td>0</td>\n",
       "      <td>0</td>\n",
       "      <td>40</td>\n",
       "      <td>Latin America</td>\n",
       "      <td>0</td>\n",
       "    </tr>\n",
       "  </tbody>\n",
       "</table>\n",
       "</div>"
      ],
      "text/plain": [
       "   age          class  education_level      marital_status    occupation  \\\n",
       "0   39     Government    Undergraduate              Single  White-collar   \n",
       "1   50  Self-employed    Undergraduate             Married  White-collar   \n",
       "2   38        Private  Lower Education  Previously Married   Blue-collar   \n",
       "3   53        Private  Lower Education             Married   Blue-collar   \n",
       "4   28        Private    Undergraduate             Married  White-collar   \n",
       "\n",
       "  relationship   race  sex  capital_gains  capital_loss  hours_per_week  \\\n",
       "0    Unrelated  White    1           2174             0              40   \n",
       "1       Spouse  White    1              0             0              13   \n",
       "2    Unrelated  White    1              0             0              40   \n",
       "3       Spouse  Black    1              0             0              40   \n",
       "4       Spouse  Black    0              0             0              40   \n",
       "\n",
       "  native_country  salary  \n",
       "0  North America       0  \n",
       "1  North America       0  \n",
       "2  North America       0  \n",
       "3  North America       0  \n",
       "4  Latin America       0  "
      ]
     },
     "execution_count": 4,
     "metadata": {},
     "output_type": "execute_result"
    }
   ],
   "source": [
    "adult_dataset.head()"
   ]
  },
  {
   "cell_type": "markdown",
   "metadata": {},
   "source": [
    "That looks much better and much more manageable. Now we can encode the data. Most of the features are nominal, meaning they don't have an inherent order, so we will use one-hot encoding to encode them. The education level variable, however, is ordinal (meaning there is some order, but the distances between them don't necessarily mean anything), so we will use label encoding for that variable."
   ]
  },
  {
   "cell_type": "markdown",
   "metadata": {},
   "source": [
    "### Encode categorical variables"
   ]
  },
  {
   "cell_type": "code",
   "execution_count": 5,
   "metadata": {},
   "outputs": [],
   "source": [
    "columns_to_one_hot = ['class', 'marital_status', 'occupation', 'relationship', 'race', 'native_country']\n",
    "adult_dataset = pd.get_dummies(adult_dataset, columns=columns_to_one_hot, prefix=columns_to_one_hot)\n",
    "\n",
    "label_encoder = LabelEncoder()\n",
    "adult_dataset['education_level'] = label_encoder.fit_transform(adult_dataset['education_level'])\n"
   ]
  },
  {
   "cell_type": "code",
   "execution_count": 6,
   "metadata": {},
   "outputs": [
    {
     "name": "stdout",
     "output_type": "stream",
     "text": [
      "age                                  int64\n",
      "education_level                      int64\n",
      "sex                                  int64\n",
      "capital_gains                        int64\n",
      "capital_loss                         int64\n",
      "hours_per_week                       int64\n",
      "salary                               int64\n",
      "class_Government                      bool\n",
      "class_Other                           bool\n",
      "class_Private                         bool\n",
      "class_Self-employed                   bool\n",
      "marital_status_Married                bool\n",
      "marital_status_Previously Married     bool\n",
      "marital_status_Single                 bool\n",
      "occupation_Blue-collar                bool\n",
      "occupation_Military                   bool\n",
      "occupation_Service                    bool\n",
      "occupation_White-collar               bool\n",
      "relationship_Dependent                bool\n",
      "relationship_Spouse                   bool\n",
      "relationship_Unrelated                bool\n",
      "race_Asian                            bool\n",
      "race_Black                            bool\n",
      "race_Indigenous                       bool\n",
      "race_Other                            bool\n",
      "race_White                            bool\n",
      "native_country_Asia                   bool\n",
      "native_country_Europe                 bool\n",
      "native_country_Latin America          bool\n",
      "native_country_Middle East            bool\n",
      "native_country_North America          bool\n",
      "native_country_Other                  bool\n",
      "dtype: object\n"
     ]
    },
    {
     "data": {
      "text/html": [
       "<div>\n",
       "<style scoped>\n",
       "    .dataframe tbody tr th:only-of-type {\n",
       "        vertical-align: middle;\n",
       "    }\n",
       "\n",
       "    .dataframe tbody tr th {\n",
       "        vertical-align: top;\n",
       "    }\n",
       "\n",
       "    .dataframe thead th {\n",
       "        text-align: right;\n",
       "    }\n",
       "</style>\n",
       "<table border=\"1\" class=\"dataframe\">\n",
       "  <thead>\n",
       "    <tr style=\"text-align: right;\">\n",
       "      <th></th>\n",
       "      <th>age</th>\n",
       "      <th>education_level</th>\n",
       "      <th>sex</th>\n",
       "      <th>capital_gains</th>\n",
       "      <th>capital_loss</th>\n",
       "      <th>hours_per_week</th>\n",
       "      <th>salary</th>\n",
       "      <th>class_Government</th>\n",
       "      <th>class_Other</th>\n",
       "      <th>class_Private</th>\n",
       "      <th>...</th>\n",
       "      <th>race_Black</th>\n",
       "      <th>race_Indigenous</th>\n",
       "      <th>race_Other</th>\n",
       "      <th>race_White</th>\n",
       "      <th>native_country_Asia</th>\n",
       "      <th>native_country_Europe</th>\n",
       "      <th>native_country_Latin America</th>\n",
       "      <th>native_country_Middle East</th>\n",
       "      <th>native_country_North America</th>\n",
       "      <th>native_country_Other</th>\n",
       "    </tr>\n",
       "  </thead>\n",
       "  <tbody>\n",
       "    <tr>\n",
       "      <th>0</th>\n",
       "      <td>39</td>\n",
       "      <td>2</td>\n",
       "      <td>1</td>\n",
       "      <td>2174</td>\n",
       "      <td>0</td>\n",
       "      <td>40</td>\n",
       "      <td>0</td>\n",
       "      <td>True</td>\n",
       "      <td>False</td>\n",
       "      <td>False</td>\n",
       "      <td>...</td>\n",
       "      <td>False</td>\n",
       "      <td>False</td>\n",
       "      <td>False</td>\n",
       "      <td>True</td>\n",
       "      <td>False</td>\n",
       "      <td>False</td>\n",
       "      <td>False</td>\n",
       "      <td>False</td>\n",
       "      <td>True</td>\n",
       "      <td>False</td>\n",
       "    </tr>\n",
       "    <tr>\n",
       "      <th>1</th>\n",
       "      <td>50</td>\n",
       "      <td>2</td>\n",
       "      <td>1</td>\n",
       "      <td>0</td>\n",
       "      <td>0</td>\n",
       "      <td>13</td>\n",
       "      <td>0</td>\n",
       "      <td>False</td>\n",
       "      <td>False</td>\n",
       "      <td>False</td>\n",
       "      <td>...</td>\n",
       "      <td>False</td>\n",
       "      <td>False</td>\n",
       "      <td>False</td>\n",
       "      <td>True</td>\n",
       "      <td>False</td>\n",
       "      <td>False</td>\n",
       "      <td>False</td>\n",
       "      <td>False</td>\n",
       "      <td>True</td>\n",
       "      <td>False</td>\n",
       "    </tr>\n",
       "    <tr>\n",
       "      <th>2</th>\n",
       "      <td>38</td>\n",
       "      <td>0</td>\n",
       "      <td>1</td>\n",
       "      <td>0</td>\n",
       "      <td>0</td>\n",
       "      <td>40</td>\n",
       "      <td>0</td>\n",
       "      <td>False</td>\n",
       "      <td>False</td>\n",
       "      <td>True</td>\n",
       "      <td>...</td>\n",
       "      <td>False</td>\n",
       "      <td>False</td>\n",
       "      <td>False</td>\n",
       "      <td>True</td>\n",
       "      <td>False</td>\n",
       "      <td>False</td>\n",
       "      <td>False</td>\n",
       "      <td>False</td>\n",
       "      <td>True</td>\n",
       "      <td>False</td>\n",
       "    </tr>\n",
       "    <tr>\n",
       "      <th>3</th>\n",
       "      <td>53</td>\n",
       "      <td>0</td>\n",
       "      <td>1</td>\n",
       "      <td>0</td>\n",
       "      <td>0</td>\n",
       "      <td>40</td>\n",
       "      <td>0</td>\n",
       "      <td>False</td>\n",
       "      <td>False</td>\n",
       "      <td>True</td>\n",
       "      <td>...</td>\n",
       "      <td>True</td>\n",
       "      <td>False</td>\n",
       "      <td>False</td>\n",
       "      <td>False</td>\n",
       "      <td>False</td>\n",
       "      <td>False</td>\n",
       "      <td>False</td>\n",
       "      <td>False</td>\n",
       "      <td>True</td>\n",
       "      <td>False</td>\n",
       "    </tr>\n",
       "    <tr>\n",
       "      <th>4</th>\n",
       "      <td>28</td>\n",
       "      <td>2</td>\n",
       "      <td>0</td>\n",
       "      <td>0</td>\n",
       "      <td>0</td>\n",
       "      <td>40</td>\n",
       "      <td>0</td>\n",
       "      <td>False</td>\n",
       "      <td>False</td>\n",
       "      <td>True</td>\n",
       "      <td>...</td>\n",
       "      <td>True</td>\n",
       "      <td>False</td>\n",
       "      <td>False</td>\n",
       "      <td>False</td>\n",
       "      <td>False</td>\n",
       "      <td>False</td>\n",
       "      <td>True</td>\n",
       "      <td>False</td>\n",
       "      <td>False</td>\n",
       "      <td>False</td>\n",
       "    </tr>\n",
       "  </tbody>\n",
       "</table>\n",
       "<p>5 rows × 32 columns</p>\n",
       "</div>"
      ],
      "text/plain": [
       "   age  education_level  sex  capital_gains  capital_loss  hours_per_week  \\\n",
       "0   39                2    1           2174             0              40   \n",
       "1   50                2    1              0             0              13   \n",
       "2   38                0    1              0             0              40   \n",
       "3   53                0    1              0             0              40   \n",
       "4   28                2    0              0             0              40   \n",
       "\n",
       "   salary  class_Government  class_Other  class_Private  ...  race_Black  \\\n",
       "0       0              True        False          False  ...       False   \n",
       "1       0             False        False          False  ...       False   \n",
       "2       0             False        False           True  ...       False   \n",
       "3       0             False        False           True  ...        True   \n",
       "4       0             False        False           True  ...        True   \n",
       "\n",
       "   race_Indigenous  race_Other  race_White  native_country_Asia  \\\n",
       "0            False       False        True                False   \n",
       "1            False       False        True                False   \n",
       "2            False       False        True                False   \n",
       "3            False       False       False                False   \n",
       "4            False       False       False                False   \n",
       "\n",
       "   native_country_Europe  native_country_Latin America  \\\n",
       "0                  False                         False   \n",
       "1                  False                         False   \n",
       "2                  False                         False   \n",
       "3                  False                         False   \n",
       "4                  False                          True   \n",
       "\n",
       "   native_country_Middle East  native_country_North America  \\\n",
       "0                       False                          True   \n",
       "1                       False                          True   \n",
       "2                       False                          True   \n",
       "3                       False                          True   \n",
       "4                       False                         False   \n",
       "\n",
       "   native_country_Other  \n",
       "0                 False  \n",
       "1                 False  \n",
       "2                 False  \n",
       "3                 False  \n",
       "4                 False  \n",
       "\n",
       "[5 rows x 32 columns]"
      ]
     },
     "execution_count": 6,
     "metadata": {},
     "output_type": "execute_result"
    }
   ],
   "source": [
    "print(adult_dataset.dtypes)\n",
    "adult_dataset.head()\n"
   ]
  },
  {
   "cell_type": "markdown",
   "metadata": {},
   "source": [
    "Now that each feature is in the format a machine can handle and intepret properly, the data is ready for modeling!"
   ]
  },
  {
   "cell_type": "markdown",
   "metadata": {},
   "source": [
    "## Dataset 2: [Heart Disease](http://archive.ics.uci.edu/dataset/45/heart+disease)\n",
    "Heart disease dataset from four databases predicting if a person has heart disease based on various features. 3 of the databases were riddled with missing values, so we will use the Cleveland database. 303 instances, 14 features.\n"
   ]
  },
  {
   "cell_type": "markdown",
   "metadata": {},
   "source": [
    "### Load data and assign column names\n"
   ]
  },
  {
   "cell_type": "code",
   "execution_count": 7,
   "metadata": {},
   "outputs": [
    {
     "name": "stdout",
     "output_type": "stream",
     "text": [
      "age            float64\n",
      "sex            float64\n",
      "cp             float64\n",
      "resting_bp     float64\n",
      "cholesterol    float64\n",
      "blood_sugar    float64\n",
      "resting_ekg    float64\n",
      "max_hr         float64\n",
      "exang          float64\n",
      "oldpeak        float64\n",
      "slope          float64\n",
      "ca             float64\n",
      "thal           float64\n",
      "severity         int64\n",
      "dtype: object\n"
     ]
    },
    {
     "data": {
      "text/html": [
       "<div>\n",
       "<style scoped>\n",
       "    .dataframe tbody tr th:only-of-type {\n",
       "        vertical-align: middle;\n",
       "    }\n",
       "\n",
       "    .dataframe tbody tr th {\n",
       "        vertical-align: top;\n",
       "    }\n",
       "\n",
       "    .dataframe thead th {\n",
       "        text-align: right;\n",
       "    }\n",
       "</style>\n",
       "<table border=\"1\" class=\"dataframe\">\n",
       "  <thead>\n",
       "    <tr style=\"text-align: right;\">\n",
       "      <th></th>\n",
       "      <th>age</th>\n",
       "      <th>sex</th>\n",
       "      <th>cp</th>\n",
       "      <th>resting_bp</th>\n",
       "      <th>cholesterol</th>\n",
       "      <th>blood_sugar</th>\n",
       "      <th>resting_ekg</th>\n",
       "      <th>max_hr</th>\n",
       "      <th>exang</th>\n",
       "      <th>oldpeak</th>\n",
       "      <th>slope</th>\n",
       "      <th>ca</th>\n",
       "      <th>thal</th>\n",
       "      <th>severity</th>\n",
       "    </tr>\n",
       "  </thead>\n",
       "  <tbody>\n",
       "    <tr>\n",
       "      <th>0</th>\n",
       "      <td>63.0</td>\n",
       "      <td>1.0</td>\n",
       "      <td>1.0</td>\n",
       "      <td>145.0</td>\n",
       "      <td>233.0</td>\n",
       "      <td>1.0</td>\n",
       "      <td>2.0</td>\n",
       "      <td>150.0</td>\n",
       "      <td>0.0</td>\n",
       "      <td>2.3</td>\n",
       "      <td>3.0</td>\n",
       "      <td>0.0</td>\n",
       "      <td>6.0</td>\n",
       "      <td>0</td>\n",
       "    </tr>\n",
       "    <tr>\n",
       "      <th>1</th>\n",
       "      <td>67.0</td>\n",
       "      <td>1.0</td>\n",
       "      <td>4.0</td>\n",
       "      <td>160.0</td>\n",
       "      <td>286.0</td>\n",
       "      <td>0.0</td>\n",
       "      <td>2.0</td>\n",
       "      <td>108.0</td>\n",
       "      <td>1.0</td>\n",
       "      <td>1.5</td>\n",
       "      <td>2.0</td>\n",
       "      <td>3.0</td>\n",
       "      <td>3.0</td>\n",
       "      <td>1</td>\n",
       "    </tr>\n",
       "    <tr>\n",
       "      <th>2</th>\n",
       "      <td>67.0</td>\n",
       "      <td>1.0</td>\n",
       "      <td>4.0</td>\n",
       "      <td>120.0</td>\n",
       "      <td>229.0</td>\n",
       "      <td>0.0</td>\n",
       "      <td>2.0</td>\n",
       "      <td>129.0</td>\n",
       "      <td>1.0</td>\n",
       "      <td>2.6</td>\n",
       "      <td>2.0</td>\n",
       "      <td>2.0</td>\n",
       "      <td>7.0</td>\n",
       "      <td>1</td>\n",
       "    </tr>\n",
       "    <tr>\n",
       "      <th>3</th>\n",
       "      <td>37.0</td>\n",
       "      <td>1.0</td>\n",
       "      <td>3.0</td>\n",
       "      <td>130.0</td>\n",
       "      <td>250.0</td>\n",
       "      <td>0.0</td>\n",
       "      <td>0.0</td>\n",
       "      <td>187.0</td>\n",
       "      <td>0.0</td>\n",
       "      <td>3.5</td>\n",
       "      <td>3.0</td>\n",
       "      <td>0.0</td>\n",
       "      <td>3.0</td>\n",
       "      <td>0</td>\n",
       "    </tr>\n",
       "    <tr>\n",
       "      <th>4</th>\n",
       "      <td>41.0</td>\n",
       "      <td>0.0</td>\n",
       "      <td>2.0</td>\n",
       "      <td>130.0</td>\n",
       "      <td>204.0</td>\n",
       "      <td>0.0</td>\n",
       "      <td>2.0</td>\n",
       "      <td>172.0</td>\n",
       "      <td>0.0</td>\n",
       "      <td>1.4</td>\n",
       "      <td>1.0</td>\n",
       "      <td>0.0</td>\n",
       "      <td>3.0</td>\n",
       "      <td>0</td>\n",
       "    </tr>\n",
       "  </tbody>\n",
       "</table>\n",
       "</div>"
      ],
      "text/plain": [
       "    age  sex   cp  resting_bp  cholesterol  blood_sugar  resting_ekg  max_hr  \\\n",
       "0  63.0  1.0  1.0       145.0        233.0          1.0          2.0   150.0   \n",
       "1  67.0  1.0  4.0       160.0        286.0          0.0          2.0   108.0   \n",
       "2  67.0  1.0  4.0       120.0        229.0          0.0          2.0   129.0   \n",
       "3  37.0  1.0  3.0       130.0        250.0          0.0          0.0   187.0   \n",
       "4  41.0  0.0  2.0       130.0        204.0          0.0          2.0   172.0   \n",
       "\n",
       "   exang  oldpeak  slope   ca  thal  severity  \n",
       "0    0.0      2.3    3.0  0.0   6.0         0  \n",
       "1    1.0      1.5    2.0  3.0   3.0         1  \n",
       "2    1.0      2.6    2.0  2.0   7.0         1  \n",
       "3    0.0      3.5    3.0  0.0   3.0         0  \n",
       "4    0.0      1.4    1.0  0.0   3.0         0  "
      ]
     },
     "execution_count": 7,
     "metadata": {},
     "output_type": "execute_result"
    }
   ],
   "source": [
    "column_names = [\"age\", \"sex\", \"cp\", \"resting_bp\", \"cholesterol\", \"blood_sugar\", \"resting_ekg\", \"max_hr\", \"exang\", \"oldpeak\", \"slope\", \"ca\", \"thal\", \"severity\"]\n",
    "\n",
    "\n",
    "heart_dataset = pd.read_csv('heart_dataset/processed.cleveland.data', header=None, names=column_names) # read the dataset\n",
    "heart_dataset = heart_dataset[~heart_dataset.map(lambda x: str(x).strip()).isin(['?']).any(axis=1)] # remove rows with missing values\n",
    "heart_dataset['ca'] = heart_dataset['ca'].astype(float) # convert to float\n",
    "heart_dataset['thal'] = heart_dataset['thal'].astype(float) # convert to float\n",
    "heart_dataset['severity'] = heart_dataset['severity'].apply(lambda x: 0 if x == 0 else 1) # convert to binary for 2 class classification\n",
    "\n",
    "print(heart_dataset.dtypes)\n",
    "heart_dataset.head()"
   ]
  },
  {
   "cell_type": "markdown",
   "metadata": {},
   "source": [
    "This dataset is already clean and ready for modeling, so we are done!"
   ]
  },
  {
   "cell_type": "markdown",
   "metadata": {},
   "source": [
    "## Dataset 3:\n",
    "Wine dataset; predicting the quality of wine based on various features.\n"
   ]
  },
  {
   "cell_type": "markdown",
   "metadata": {},
   "source": [
    "### Load data and assign column names"
   ]
  },
  {
   "cell_type": "markdown",
   "metadata": {},
   "source": [
    "Since the qualities of a good red wine might be different from those of a good white wine, I will split the dataset into two and model them separately, as well as model the combined dataset."
   ]
  },
  {
   "cell_type": "code",
   "execution_count": 8,
   "metadata": {},
   "outputs": [],
   "source": [
    "red_wine_dataset = pd.read_csv('wine_dataset/winequality-red.csv', sep=';') # read the dataset\n",
    "white_wine_dataset = pd.read_csv('wine_dataset/winequality-white.csv', sep=';') # read the dataset\n",
    "red_white_wine_dataset = pd.concat([red_wine_dataset, white_wine_dataset], axis=0) # concatenate the datasets\n",
    "wine_datasets = [red_wine_dataset, white_wine_dataset, red_white_wine_dataset] \n",
    "\n",
    "for i, dataset in enumerate(wine_datasets, start=1):\n",
    "    dataset['quality'] = dataset['quality'].apply(lambda x: 0 if x <= 6 else 1) # convert to binary for 2 class classification"
   ]
  },
  {
   "cell_type": "code",
   "execution_count": 9,
   "metadata": {},
   "outputs": [
    {
     "name": "stdout",
     "output_type": "stream",
     "text": [
      "fixed acidity           float64\n",
      "volatile acidity        float64\n",
      "citric acid             float64\n",
      "residual sugar          float64\n",
      "chlorides               float64\n",
      "free sulfur dioxide     float64\n",
      "total sulfur dioxide    float64\n",
      "density                 float64\n",
      "pH                      float64\n",
      "sulphates               float64\n",
      "alcohol                 float64\n",
      "quality                   int64\n",
      "dtype: object\n"
     ]
    },
    {
     "data": {
      "text/html": [
       "<div>\n",
       "<style scoped>\n",
       "    .dataframe tbody tr th:only-of-type {\n",
       "        vertical-align: middle;\n",
       "    }\n",
       "\n",
       "    .dataframe tbody tr th {\n",
       "        vertical-align: top;\n",
       "    }\n",
       "\n",
       "    .dataframe thead th {\n",
       "        text-align: right;\n",
       "    }\n",
       "</style>\n",
       "<table border=\"1\" class=\"dataframe\">\n",
       "  <thead>\n",
       "    <tr style=\"text-align: right;\">\n",
       "      <th></th>\n",
       "      <th>fixed acidity</th>\n",
       "      <th>volatile acidity</th>\n",
       "      <th>citric acid</th>\n",
       "      <th>residual sugar</th>\n",
       "      <th>chlorides</th>\n",
       "      <th>free sulfur dioxide</th>\n",
       "      <th>total sulfur dioxide</th>\n",
       "      <th>density</th>\n",
       "      <th>pH</th>\n",
       "      <th>sulphates</th>\n",
       "      <th>alcohol</th>\n",
       "      <th>quality</th>\n",
       "    </tr>\n",
       "  </thead>\n",
       "  <tbody>\n",
       "    <tr>\n",
       "      <th>0</th>\n",
       "      <td>7.4</td>\n",
       "      <td>0.70</td>\n",
       "      <td>0.00</td>\n",
       "      <td>1.9</td>\n",
       "      <td>0.076</td>\n",
       "      <td>11.0</td>\n",
       "      <td>34.0</td>\n",
       "      <td>0.9978</td>\n",
       "      <td>3.51</td>\n",
       "      <td>0.56</td>\n",
       "      <td>9.4</td>\n",
       "      <td>0</td>\n",
       "    </tr>\n",
       "    <tr>\n",
       "      <th>1</th>\n",
       "      <td>7.8</td>\n",
       "      <td>0.88</td>\n",
       "      <td>0.00</td>\n",
       "      <td>2.6</td>\n",
       "      <td>0.098</td>\n",
       "      <td>25.0</td>\n",
       "      <td>67.0</td>\n",
       "      <td>0.9968</td>\n",
       "      <td>3.20</td>\n",
       "      <td>0.68</td>\n",
       "      <td>9.8</td>\n",
       "      <td>0</td>\n",
       "    </tr>\n",
       "    <tr>\n",
       "      <th>2</th>\n",
       "      <td>7.8</td>\n",
       "      <td>0.76</td>\n",
       "      <td>0.04</td>\n",
       "      <td>2.3</td>\n",
       "      <td>0.092</td>\n",
       "      <td>15.0</td>\n",
       "      <td>54.0</td>\n",
       "      <td>0.9970</td>\n",
       "      <td>3.26</td>\n",
       "      <td>0.65</td>\n",
       "      <td>9.8</td>\n",
       "      <td>0</td>\n",
       "    </tr>\n",
       "    <tr>\n",
       "      <th>3</th>\n",
       "      <td>11.2</td>\n",
       "      <td>0.28</td>\n",
       "      <td>0.56</td>\n",
       "      <td>1.9</td>\n",
       "      <td>0.075</td>\n",
       "      <td>17.0</td>\n",
       "      <td>60.0</td>\n",
       "      <td>0.9980</td>\n",
       "      <td>3.16</td>\n",
       "      <td>0.58</td>\n",
       "      <td>9.8</td>\n",
       "      <td>0</td>\n",
       "    </tr>\n",
       "    <tr>\n",
       "      <th>4</th>\n",
       "      <td>7.4</td>\n",
       "      <td>0.70</td>\n",
       "      <td>0.00</td>\n",
       "      <td>1.9</td>\n",
       "      <td>0.076</td>\n",
       "      <td>11.0</td>\n",
       "      <td>34.0</td>\n",
       "      <td>0.9978</td>\n",
       "      <td>3.51</td>\n",
       "      <td>0.56</td>\n",
       "      <td>9.4</td>\n",
       "      <td>0</td>\n",
       "    </tr>\n",
       "  </tbody>\n",
       "</table>\n",
       "</div>"
      ],
      "text/plain": [
       "   fixed acidity  volatile acidity  citric acid  residual sugar  chlorides  \\\n",
       "0            7.4              0.70         0.00             1.9      0.076   \n",
       "1            7.8              0.88         0.00             2.6      0.098   \n",
       "2            7.8              0.76         0.04             2.3      0.092   \n",
       "3           11.2              0.28         0.56             1.9      0.075   \n",
       "4            7.4              0.70         0.00             1.9      0.076   \n",
       "\n",
       "   free sulfur dioxide  total sulfur dioxide  density    pH  sulphates  \\\n",
       "0                 11.0                  34.0   0.9978  3.51       0.56   \n",
       "1                 25.0                  67.0   0.9968  3.20       0.68   \n",
       "2                 15.0                  54.0   0.9970  3.26       0.65   \n",
       "3                 17.0                  60.0   0.9980  3.16       0.58   \n",
       "4                 11.0                  34.0   0.9978  3.51       0.56   \n",
       "\n",
       "   alcohol  quality  \n",
       "0      9.4        0  \n",
       "1      9.8        0  \n",
       "2      9.8        0  \n",
       "3      9.8        0  \n",
       "4      9.4        0  "
      ]
     },
     "execution_count": 9,
     "metadata": {},
     "output_type": "execute_result"
    }
   ],
   "source": [
    "print(red_wine_dataset.dtypes)\n",
    "red_wine_dataset.head()"
   ]
  },
  {
   "cell_type": "code",
   "execution_count": 10,
   "metadata": {},
   "outputs": [
    {
     "name": "stdout",
     "output_type": "stream",
     "text": [
      "fixed acidity           float64\n",
      "volatile acidity        float64\n",
      "citric acid             float64\n",
      "residual sugar          float64\n",
      "chlorides               float64\n",
      "free sulfur dioxide     float64\n",
      "total sulfur dioxide    float64\n",
      "density                 float64\n",
      "pH                      float64\n",
      "sulphates               float64\n",
      "alcohol                 float64\n",
      "quality                   int64\n",
      "dtype: object\n"
     ]
    },
    {
     "data": {
      "text/html": [
       "<div>\n",
       "<style scoped>\n",
       "    .dataframe tbody tr th:only-of-type {\n",
       "        vertical-align: middle;\n",
       "    }\n",
       "\n",
       "    .dataframe tbody tr th {\n",
       "        vertical-align: top;\n",
       "    }\n",
       "\n",
       "    .dataframe thead th {\n",
       "        text-align: right;\n",
       "    }\n",
       "</style>\n",
       "<table border=\"1\" class=\"dataframe\">\n",
       "  <thead>\n",
       "    <tr style=\"text-align: right;\">\n",
       "      <th></th>\n",
       "      <th>fixed acidity</th>\n",
       "      <th>volatile acidity</th>\n",
       "      <th>citric acid</th>\n",
       "      <th>residual sugar</th>\n",
       "      <th>chlorides</th>\n",
       "      <th>free sulfur dioxide</th>\n",
       "      <th>total sulfur dioxide</th>\n",
       "      <th>density</th>\n",
       "      <th>pH</th>\n",
       "      <th>sulphates</th>\n",
       "      <th>alcohol</th>\n",
       "      <th>quality</th>\n",
       "    </tr>\n",
       "  </thead>\n",
       "  <tbody>\n",
       "    <tr>\n",
       "      <th>0</th>\n",
       "      <td>7.0</td>\n",
       "      <td>0.27</td>\n",
       "      <td>0.36</td>\n",
       "      <td>20.7</td>\n",
       "      <td>0.045</td>\n",
       "      <td>45.0</td>\n",
       "      <td>170.0</td>\n",
       "      <td>1.0010</td>\n",
       "      <td>3.00</td>\n",
       "      <td>0.45</td>\n",
       "      <td>8.8</td>\n",
       "      <td>0</td>\n",
       "    </tr>\n",
       "    <tr>\n",
       "      <th>1</th>\n",
       "      <td>6.3</td>\n",
       "      <td>0.30</td>\n",
       "      <td>0.34</td>\n",
       "      <td>1.6</td>\n",
       "      <td>0.049</td>\n",
       "      <td>14.0</td>\n",
       "      <td>132.0</td>\n",
       "      <td>0.9940</td>\n",
       "      <td>3.30</td>\n",
       "      <td>0.49</td>\n",
       "      <td>9.5</td>\n",
       "      <td>0</td>\n",
       "    </tr>\n",
       "    <tr>\n",
       "      <th>2</th>\n",
       "      <td>8.1</td>\n",
       "      <td>0.28</td>\n",
       "      <td>0.40</td>\n",
       "      <td>6.9</td>\n",
       "      <td>0.050</td>\n",
       "      <td>30.0</td>\n",
       "      <td>97.0</td>\n",
       "      <td>0.9951</td>\n",
       "      <td>3.26</td>\n",
       "      <td>0.44</td>\n",
       "      <td>10.1</td>\n",
       "      <td>0</td>\n",
       "    </tr>\n",
       "    <tr>\n",
       "      <th>3</th>\n",
       "      <td>7.2</td>\n",
       "      <td>0.23</td>\n",
       "      <td>0.32</td>\n",
       "      <td>8.5</td>\n",
       "      <td>0.058</td>\n",
       "      <td>47.0</td>\n",
       "      <td>186.0</td>\n",
       "      <td>0.9956</td>\n",
       "      <td>3.19</td>\n",
       "      <td>0.40</td>\n",
       "      <td>9.9</td>\n",
       "      <td>0</td>\n",
       "    </tr>\n",
       "    <tr>\n",
       "      <th>4</th>\n",
       "      <td>7.2</td>\n",
       "      <td>0.23</td>\n",
       "      <td>0.32</td>\n",
       "      <td>8.5</td>\n",
       "      <td>0.058</td>\n",
       "      <td>47.0</td>\n",
       "      <td>186.0</td>\n",
       "      <td>0.9956</td>\n",
       "      <td>3.19</td>\n",
       "      <td>0.40</td>\n",
       "      <td>9.9</td>\n",
       "      <td>0</td>\n",
       "    </tr>\n",
       "  </tbody>\n",
       "</table>\n",
       "</div>"
      ],
      "text/plain": [
       "   fixed acidity  volatile acidity  citric acid  residual sugar  chlorides  \\\n",
       "0            7.0              0.27         0.36            20.7      0.045   \n",
       "1            6.3              0.30         0.34             1.6      0.049   \n",
       "2            8.1              0.28         0.40             6.9      0.050   \n",
       "3            7.2              0.23         0.32             8.5      0.058   \n",
       "4            7.2              0.23         0.32             8.5      0.058   \n",
       "\n",
       "   free sulfur dioxide  total sulfur dioxide  density    pH  sulphates  \\\n",
       "0                 45.0                 170.0   1.0010  3.00       0.45   \n",
       "1                 14.0                 132.0   0.9940  3.30       0.49   \n",
       "2                 30.0                  97.0   0.9951  3.26       0.44   \n",
       "3                 47.0                 186.0   0.9956  3.19       0.40   \n",
       "4                 47.0                 186.0   0.9956  3.19       0.40   \n",
       "\n",
       "   alcohol  quality  \n",
       "0      8.8        0  \n",
       "1      9.5        0  \n",
       "2     10.1        0  \n",
       "3      9.9        0  \n",
       "4      9.9        0  "
      ]
     },
     "execution_count": 10,
     "metadata": {},
     "output_type": "execute_result"
    }
   ],
   "source": [
    "print(red_wine_dataset.dtypes)\n",
    "white_wine_dataset.head()"
   ]
  },
  {
   "cell_type": "code",
   "execution_count": 11,
   "metadata": {},
   "outputs": [
    {
     "name": "stdout",
     "output_type": "stream",
     "text": [
      "fixed acidity           float64\n",
      "volatile acidity        float64\n",
      "citric acid             float64\n",
      "residual sugar          float64\n",
      "chlorides               float64\n",
      "free sulfur dioxide     float64\n",
      "total sulfur dioxide    float64\n",
      "density                 float64\n",
      "pH                      float64\n",
      "sulphates               float64\n",
      "alcohol                 float64\n",
      "quality                   int64\n",
      "dtype: object\n"
     ]
    },
    {
     "data": {
      "text/html": [
       "<div>\n",
       "<style scoped>\n",
       "    .dataframe tbody tr th:only-of-type {\n",
       "        vertical-align: middle;\n",
       "    }\n",
       "\n",
       "    .dataframe tbody tr th {\n",
       "        vertical-align: top;\n",
       "    }\n",
       "\n",
       "    .dataframe thead th {\n",
       "        text-align: right;\n",
       "    }\n",
       "</style>\n",
       "<table border=\"1\" class=\"dataframe\">\n",
       "  <thead>\n",
       "    <tr style=\"text-align: right;\">\n",
       "      <th></th>\n",
       "      <th>fixed acidity</th>\n",
       "      <th>volatile acidity</th>\n",
       "      <th>citric acid</th>\n",
       "      <th>residual sugar</th>\n",
       "      <th>chlorides</th>\n",
       "      <th>free sulfur dioxide</th>\n",
       "      <th>total sulfur dioxide</th>\n",
       "      <th>density</th>\n",
       "      <th>pH</th>\n",
       "      <th>sulphates</th>\n",
       "      <th>alcohol</th>\n",
       "      <th>quality</th>\n",
       "    </tr>\n",
       "  </thead>\n",
       "  <tbody>\n",
       "    <tr>\n",
       "      <th>0</th>\n",
       "      <td>7.4</td>\n",
       "      <td>0.70</td>\n",
       "      <td>0.00</td>\n",
       "      <td>1.9</td>\n",
       "      <td>0.076</td>\n",
       "      <td>11.0</td>\n",
       "      <td>34.0</td>\n",
       "      <td>0.9978</td>\n",
       "      <td>3.51</td>\n",
       "      <td>0.56</td>\n",
       "      <td>9.4</td>\n",
       "      <td>0</td>\n",
       "    </tr>\n",
       "    <tr>\n",
       "      <th>1</th>\n",
       "      <td>7.8</td>\n",
       "      <td>0.88</td>\n",
       "      <td>0.00</td>\n",
       "      <td>2.6</td>\n",
       "      <td>0.098</td>\n",
       "      <td>25.0</td>\n",
       "      <td>67.0</td>\n",
       "      <td>0.9968</td>\n",
       "      <td>3.20</td>\n",
       "      <td>0.68</td>\n",
       "      <td>9.8</td>\n",
       "      <td>0</td>\n",
       "    </tr>\n",
       "    <tr>\n",
       "      <th>2</th>\n",
       "      <td>7.8</td>\n",
       "      <td>0.76</td>\n",
       "      <td>0.04</td>\n",
       "      <td>2.3</td>\n",
       "      <td>0.092</td>\n",
       "      <td>15.0</td>\n",
       "      <td>54.0</td>\n",
       "      <td>0.9970</td>\n",
       "      <td>3.26</td>\n",
       "      <td>0.65</td>\n",
       "      <td>9.8</td>\n",
       "      <td>0</td>\n",
       "    </tr>\n",
       "    <tr>\n",
       "      <th>3</th>\n",
       "      <td>11.2</td>\n",
       "      <td>0.28</td>\n",
       "      <td>0.56</td>\n",
       "      <td>1.9</td>\n",
       "      <td>0.075</td>\n",
       "      <td>17.0</td>\n",
       "      <td>60.0</td>\n",
       "      <td>0.9980</td>\n",
       "      <td>3.16</td>\n",
       "      <td>0.58</td>\n",
       "      <td>9.8</td>\n",
       "      <td>0</td>\n",
       "    </tr>\n",
       "    <tr>\n",
       "      <th>4</th>\n",
       "      <td>7.4</td>\n",
       "      <td>0.70</td>\n",
       "      <td>0.00</td>\n",
       "      <td>1.9</td>\n",
       "      <td>0.076</td>\n",
       "      <td>11.0</td>\n",
       "      <td>34.0</td>\n",
       "      <td>0.9978</td>\n",
       "      <td>3.51</td>\n",
       "      <td>0.56</td>\n",
       "      <td>9.4</td>\n",
       "      <td>0</td>\n",
       "    </tr>\n",
       "  </tbody>\n",
       "</table>\n",
       "</div>"
      ],
      "text/plain": [
       "   fixed acidity  volatile acidity  citric acid  residual sugar  chlorides  \\\n",
       "0            7.4              0.70         0.00             1.9      0.076   \n",
       "1            7.8              0.88         0.00             2.6      0.098   \n",
       "2            7.8              0.76         0.04             2.3      0.092   \n",
       "3           11.2              0.28         0.56             1.9      0.075   \n",
       "4            7.4              0.70         0.00             1.9      0.076   \n",
       "\n",
       "   free sulfur dioxide  total sulfur dioxide  density    pH  sulphates  \\\n",
       "0                 11.0                  34.0   0.9978  3.51       0.56   \n",
       "1                 25.0                  67.0   0.9968  3.20       0.68   \n",
       "2                 15.0                  54.0   0.9970  3.26       0.65   \n",
       "3                 17.0                  60.0   0.9980  3.16       0.58   \n",
       "4                 11.0                  34.0   0.9978  3.51       0.56   \n",
       "\n",
       "   alcohol  quality  \n",
       "0      9.4        0  \n",
       "1      9.8        0  \n",
       "2      9.8        0  \n",
       "3      9.8        0  \n",
       "4      9.4        0  "
      ]
     },
     "execution_count": 11,
     "metadata": {},
     "output_type": "execute_result"
    }
   ],
   "source": [
    "print(red_white_wine_dataset.dtypes)\n",
    "red_white_wine_dataset.head()"
   ]
  },
  {
   "cell_type": "markdown",
   "metadata": {},
   "source": [
    "This dataset is already clean and ready for modeling. "
   ]
  },
  {
   "cell_type": "markdown",
   "metadata": {},
   "source": [
    "# Methods and Models"
   ]
  },
  {
   "cell_type": "markdown",
   "metadata": {},
   "source": [
    "I am going to use the following models for each dataset: Support Vector Machine, Random Forest, and Logistic Regression. For each of the models I will:\n",
    "\n",
    "- Preprocess the data\n",
    "    - Scale the data using StandardScaler to standardize the input values for better model performance\n",
    "    - Separate the data into features and target column\n",
    "\n",
    "- Partition the data into training and testing sets\n",
    "    - Use 20/80, 50/50, and 80/20 splits to evaluate model performance under different training/testing ratios\n",
    "\n",
    "- Perform hyperparameter tuning using GridSearchCV\n",
    "    - Tune the hyperparameters for each model to optimize performance\n",
    "\n",
    "- Train the model\n",
    "    - Fit the model on the training data for each partition using the best hyperparameters\n",
    "\n",
    "- Evaluate the model\n",
    "    - Evaluate the model using cross scores to compute the average validation accuracy\n",
    "    - Evaluate the model on the test set to compute the test accuracy\n",
    "    - Generate classification reports to analyze precision, recall, and F1 scores\n",
    "\n"
   ]
  },
  {
   "cell_type": "markdown",
   "metadata": {},
   "source": [
    "## Models"
   ]
  },
  {
   "cell_type": "code",
   "execution_count": 12,
   "metadata": {},
   "outputs": [],
   "source": [
    "def train_svm(df, target_column):\n",
    "    \n",
    "    # Prepare features and target\n",
    "    X = df.drop(target_column, axis=1)\n",
    "    y = df[target_column]\n",
    "    \n",
    "    # Scale features\n",
    "    scaler = StandardScaler()\n",
    "    X = scaler.fit_transform(X)\n",
    "\n",
    "    # Define partitions (test/train split ratios)\n",
    "    partitions = {\n",
    "        \"20/80\": 0.2,\n",
    "        \"50/50\": 0.5,\n",
    "        \"80/20\": 0.8\n",
    "    }\n",
    "    \n",
    "    results = []  # Store results for analysis\n",
    "    for partition_name, test_size in tqdm(partitions.items(), desc=\"Partitions\"):\n",
    "        print(f\"\\nTraining with {partition_name} partition...\")\n",
    "        \n",
    "        # Split data into training and testing\n",
    "        X_train, X_test, y_train, y_test = train_test_split(X, y, test_size=test_size, random_state=42)\n",
    "\n",
    "        # Define hyperparameter grid\n",
    "        param_grid = {\n",
    "            'C': [0.1, 1, 10, 100], \n",
    "            'gamma': ['scale', 0.1],  \n",
    "            'kernel': ['rbf']\n",
    "        }\n",
    "\n",
    "        # Perform grid search with cross-validation\n",
    "        grid_search = GridSearchCV(SVC(), param_grid, cv=5, scoring='accuracy', n_jobs=-1)\n",
    "        grid_search.fit(X_train, y_train)\n",
    "        \n",
    "        # Get the best model\n",
    "        best_model = grid_search.best_estimator_\n",
    "        \n",
    "        # Evaluate cross-validation accuracy on training set\n",
    "        cv_scores = cross_val_score(best_model, X_train, y_train, cv=5, scoring='accuracy')\n",
    "        avg_cv_score = np.mean(cv_scores)\n",
    "        \n",
    "        # Evaluate on test set\n",
    "        y_pred = best_model.predict(X_test)\n",
    "        test_accuracy = accuracy_score(y_test, y_pred)\n",
    "        \n",
    "        # Store results\n",
    "        results.append({\n",
    "            \"Partition\": partition_name,\n",
    "            \"CV Accuracy\": avg_cv_score,\n",
    "            \"Test Accuracy\": test_accuracy,\n",
    "            \"X_test\": X_test,\n",
    "            \"y_test\": y_test,\n",
    "            \"Best Model\": best_model\n",
    "        })\n",
    "    \n",
    "    # Find the best partition based on test accuracy\n",
    "    best_result = max(results, key=lambda x: x[\"Test Accuracy\"])\n",
    "    best_partition = best_result[\"Partition\"]\n",
    "    best_cv_accuracy = best_result[\"CV Accuracy\"]\n",
    "    best_test_accuracy = best_result[\"Test Accuracy\"]\n",
    "    best_X_test = best_result[\"X_test\"]\n",
    "    best_y_test = best_result[\"y_test\"]\n",
    "    best_model = best_result[\"Best Model\"]\n",
    "    \n",
    "    # Print the best split results\n",
    "    print(f\"\\nBest Partition: {best_partition}\")\n",
    "    print(f\"Validation Accuracy: {best_cv_accuracy:.2f}\")\n",
    "    print(f\"Test Accuracy: {best_test_accuracy:.2f}\")\n",
    "    print(classification_report(best_y_test, best_model.predict(best_X_test)))\n",
    "    \n",
    "    # Display the confusion matrix for the best split\n",
    "    ConfusionMatrixDisplay.from_estimator(best_model, best_X_test, best_y_test)\n",
    "    plt.title(f\"Confusion Matrix: {best_partition} Partition\")\n",
    "    plt.show()\n",
    "\n",
    "def train_random_forest(df, target_column):\n",
    "    \n",
    "    # Prepare features and target\n",
    "    X = df.drop(target_column, axis=1)\n",
    "    y = df[target_column]\n",
    "    \n",
    "    # Scale features\n",
    "    scaler = StandardScaler()\n",
    "    X = scaler.fit_transform(X)\n",
    "\n",
    "    # Define partitions\n",
    "    partitions = {\n",
    "        \"20/80\": 0.2,\n",
    "        \"50/50\": 0.5,\n",
    "        \"80/20\": 0.8\n",
    "    }\n",
    "    \n",
    "    results = []  # Store results for analysis\n",
    "    for partition_name, test_size in tqdm(partitions.items(), desc=\"Partitions\"):\n",
    "        \n",
    "        # Split data into training and testing\n",
    "        X_train, X_test, y_train, y_test = train_test_split(X, y, test_size=test_size, random_state=42)\n",
    "\n",
    "        # Define hyperparameter grid\n",
    "        param_grid = {\n",
    "            'n_estimators': [50, 100, 200],  \n",
    "            'max_depth': [None, 10, 20], \n",
    "            'min_samples_split': [2, 5, 10],\n",
    "            'bootstrap': [True, False]\n",
    "        }\n",
    "\n",
    "        # Perform grid search with cross-validation\n",
    "        grid_search = GridSearchCV(RandomForestClassifier(random_state=42), param_grid, cv=5, scoring='accuracy', n_jobs=-1)\n",
    "        grid_search.fit(X_train, y_train)\n",
    "        \n",
    "        # Get the best model\n",
    "        best_model = grid_search.best_estimator_\n",
    "        \n",
    "        # Evaluate cross-validation accuracy on training set\n",
    "        cv_scores = cross_val_score(best_model, X_train, y_train, cv=5, scoring='accuracy')\n",
    "        avg_cv_score = np.mean(cv_scores)\n",
    "        \n",
    "        # Evaluate on test set\n",
    "        y_pred = best_model.predict(X_test)\n",
    "        test_accuracy = accuracy_score(y_test, y_pred)\n",
    "        \n",
    "        # Store results\n",
    "        results.append({\n",
    "            \"Partition\": partition_name,\n",
    "            \"CV Accuracy\": avg_cv_score,\n",
    "            \"Test Accuracy\": test_accuracy,\n",
    "            \"X_test\": X_test,\n",
    "            \"y_test\": y_test,\n",
    "            \"Best Model\": best_model\n",
    "        })\n",
    "    \n",
    "    # Find the best partition based on test accuracy\n",
    "    best_result = max(results, key=lambda x: x[\"Test Accuracy\"])\n",
    "    best_partition = best_result[\"Partition\"]\n",
    "    best_cv_accuracy = best_result[\"CV Accuracy\"]\n",
    "    best_test_accuracy = best_result[\"Test Accuracy\"]\n",
    "    best_X_test = best_result[\"X_test\"]\n",
    "    best_y_test = best_result[\"y_test\"]\n",
    "    best_model = best_result[\"Best Model\"]\n",
    "    \n",
    "    # Print the best split results\n",
    "    print(f\"\\nBest Partition: {best_partition}\")\n",
    "    print(f\"Validation Accuracy: {best_cv_accuracy:.2f}\")\n",
    "    print(f\"Test Accuracy: {best_test_accuracy:.2f}\")\n",
    "    print(classification_report(best_y_test, best_model.predict(best_X_test)))\n",
    "    \n",
    "    # Display the confusion matrix for the best split\n",
    "    ConfusionMatrixDisplay.from_estimator(best_model, best_X_test, best_y_test)\n",
    "    plt.title(f\"Confusion Matrix: {best_partition} Partition\")\n",
    "    plt.show()\n",
    "\n",
    "def train_logistic_regression(df, target_column):\n",
    "  \n",
    "    # Prepare features and target\n",
    "    X = df.drop(target_column, axis=1)\n",
    "    y = df[target_column]\n",
    "    \n",
    "    # Scale features\n",
    "    scaler = StandardScaler()\n",
    "    X = scaler.fit_transform(X)\n",
    "\n",
    "    # Define partitions\n",
    "    partitions = {\n",
    "        \"20/80\": 0.2,\n",
    "        \"50/50\": 0.5,\n",
    "        \"80/20\": 0.8\n",
    "    }\n",
    "    \n",
    "    results = []  # Store results for analysis\n",
    "    for partition_name, test_size in tqdm(partitions.items(), desc=\"Partitions\"):\n",
    "        \n",
    "        # Split data into training and testing\n",
    "        X_train, X_test, y_train, y_test = train_test_split(X, y, test_size=test_size, random_state=42)\n",
    "\n",
    "        # Define hyperparameter grid\n",
    "        param_grid = {\n",
    "            'C': [0.1, 1, 10, 100],  \n",
    "            'penalty': ['l1', 'l2'],  \n",
    "            'solver': ['liblinear', 'saga'],\n",
    "            'fit_intercept': [True, False]\n",
    "        }\n",
    "\n",
    "        # Perform grid search with cross-validation\n",
    "        grid_search = GridSearchCV(LogisticRegression(max_iter=1000, random_state=42), param_grid, cv=5, scoring='accuracy', n_jobs=-1)\n",
    "        grid_search.fit(X_train, y_train)\n",
    "        \n",
    "        # Get the best model\n",
    "        best_model = grid_search.best_estimator_\n",
    "        \n",
    "        # Evaluate cross-validation accuracy on training set\n",
    "        cv_scores = cross_val_score(best_model, X_train, y_train, cv=5, scoring='accuracy')\n",
    "        avg_cv_score = np.mean(cv_scores)\n",
    "        \n",
    "        # Evaluate on test set\n",
    "        y_pred = best_model.predict(X_test)\n",
    "        test_accuracy = accuracy_score(y_test, y_pred)\n",
    "        \n",
    "        # Store results\n",
    "        results.append({\n",
    "            \"Partition\": partition_name,\n",
    "            \"CV Accuracy\": avg_cv_score,\n",
    "            \"Test Accuracy\": test_accuracy,\n",
    "            \"X_test\": X_test,\n",
    "            \"y_test\": y_test,\n",
    "            \"Best Model\": best_model\n",
    "        })\n",
    "    \n",
    "    # Find the best partition based on test accuracy\n",
    "    best_result = max(results, key=lambda x: x[\"Test Accuracy\"])\n",
    "    best_partition = best_result[\"Partition\"]\n",
    "    best_cv_accuracy = best_result[\"CV Accuracy\"]\n",
    "    best_test_accuracy = best_result[\"Test Accuracy\"]\n",
    "    best_X_test = best_result[\"X_test\"]\n",
    "    best_y_test = best_result[\"y_test\"]\n",
    "    best_model = best_result[\"Best Model\"]\n",
    "    \n",
    "    # Print the best split results\n",
    "    print(f\"\\nBest test/train Partition: {best_partition}\")\n",
    "    print(f\"Cross-Validation Accuracy: {best_cv_accuracy:.2f}\")\n",
    "    print(f\"Test Accuracy: {best_test_accuracy:.2f}\")\n",
    "    print(classification_report(best_y_test, best_model.predict(best_X_test)))\n",
    "    \n",
    "    # Display the confusion matrix for the best split\n",
    "    ConfusionMatrixDisplay.from_estimator(best_model, best_X_test, best_y_test)\n",
    "    plt.title(f\"Confusion Matrix: {best_partition} Partition\")\n",
    "    plt.show()\n"
   ]
  },
  {
   "cell_type": "markdown",
   "metadata": {},
   "source": [
    "# Experiments"
   ]
  },
  {
   "cell_type": "code",
   "execution_count": 13,
   "metadata": {},
   "outputs": [],
   "source": [
    "def run_model(model_fn, dataset_info):\n",
    "    for i, dataset_info in enumerate(tqdm(datasets, desc=\"Datasets\"), start=1):\n",
    "        dataset_name = dataset_info[\"name\"]\n",
    "        dataset = dataset_info[\"data\"]\n",
    "        target_column = dataset_info[\"target\"]\n",
    "        print(f\"\\nTraining on '{dataset_name}' with target column '{target_column}'...\")\n",
    "        model_fn(dataset, target_column)\n",
    "\n",
    "        \n",
    "datasets = [\n",
    "    {\"name\": \"Adult Dataset\", \"data\": adult_dataset, \"target\": \"salary\"},\n",
    "    {\"name\": \"Heart Dataset\", \"data\": heart_dataset, \"target\": \"severity\"},\n",
    "    {\"name\": \"Red Wine Dataset\", \"data\": red_wine_dataset, \"target\": \"quality\"},\n",
    "    {\"name\": \"White Wine Dataset\", \"data\": white_wine_dataset, \"target\": \"quality\"},\n",
    "    {\"name\": \"Red and White Wine Dataset\", \"data\": red_white_wine_dataset, \"target\": \"quality\"}\n",
    "]\n"
   ]
  },
  {
   "cell_type": "markdown",
   "metadata": {},
   "source": [
    "### Running SVM"
   ]
  },
  {
   "cell_type": "code",
   "execution_count": null,
   "metadata": {},
   "outputs": [],
   "source": [
    "run_model(train_svm, datasets)"
   ]
  },
  {
   "cell_type": "markdown",
   "metadata": {},
   "source": [
    "### Running random forest"
   ]
  },
  {
   "cell_type": "code",
   "execution_count": 15,
   "metadata": {},
   "outputs": [
    {
     "data": {
      "application/vnd.jupyter.widget-view+json": {
       "model_id": "570d671dc8934d72b3e040f42267f692",
       "version_major": 2,
       "version_minor": 0
      },
      "text/plain": [
       "Datasets:   0%|          | 0/5 [00:00<?, ?it/s]"
      ]
     },
     "metadata": {},
     "output_type": "display_data"
    },
    {
     "name": "stdout",
     "output_type": "stream",
     "text": [
      "\n",
      "Training on 'Adult Dataset' with target column 'salary'...\n"
     ]
    },
    {
     "data": {
      "application/vnd.jupyter.widget-view+json": {
       "model_id": "8bafa0ef8700402da8eb3b4d3acc71f9",
       "version_major": 2,
       "version_minor": 0
      },
      "text/plain": [
       "Partitions:   0%|          | 0/3 [00:00<?, ?it/s]"
      ]
     },
     "metadata": {},
     "output_type": "display_data"
    },
    {
     "name": "stdout",
     "output_type": "stream",
     "text": [
      "\n",
      "Best Partition: 20/80\n",
      "Validation Accuracy: 0.85\n",
      "Test Accuracy: 0.86\n",
      "              precision    recall  f1-score   support\n",
      "\n",
      "           0       0.88      0.94      0.91      4503\n",
      "           1       0.78      0.61      0.69      1530\n",
      "\n",
      "    accuracy                           0.86      6033\n",
      "   macro avg       0.83      0.78      0.80      6033\n",
      "weighted avg       0.85      0.86      0.85      6033\n",
      "\n"
     ]
    },
    {
     "data": {
      "image/png": "[encoded data removed]",
      "text/plain": [
       "<Figure size 640x480 with 2 Axes>"
      ]
     },
     "metadata": {},
     "output_type": "display_data"
    },
    {
     "name": "stdout",
     "output_type": "stream",
     "text": [
      "\n",
      "Training on 'Heart Dataset' with target column 'severity'...\n"
     ]
    },
    {
     "data": {
      "application/vnd.jupyter.widget-view+json": {
       "model_id": "afe7c273f0db4e948348e9cbbcd627c2",
       "version_major": 2,
       "version_minor": 0
      },
      "text/plain": [
       "Partitions:   0%|          | 0/3 [00:00<?, ?it/s]"
      ]
     },
     "metadata": {},
     "output_type": "display_data"
    },
    {
     "name": "stdout",
     "output_type": "stream",
     "text": [
      "\n",
      "Best Partition: 20/80\n",
      "Validation Accuracy: 0.81\n",
      "Test Accuracy: 0.85\n",
      "              precision    recall  f1-score   support\n",
      "\n",
      "           0       0.89      0.86      0.87        36\n",
      "           1       0.80      0.83      0.82        24\n",
      "\n",
      "    accuracy                           0.85        60\n",
      "   macro avg       0.84      0.85      0.84        60\n",
      "weighted avg       0.85      0.85      0.85        60\n",
      "\n"
     ]
    },
    {
     "data": {
      "image/png": "[encoded data removed]",
      "text/plain": [
       "<Figure size 640x480 with 2 Axes>"
      ]
     },
     "metadata": {},
     "output_type": "display_data"
    },
    {
     "name": "stdout",
     "output_type": "stream",
     "text": [
      "\n",
      "Training on 'Red Wine Dataset' with target column 'quality'...\n"
     ]
    },
    {
     "data": {
      "application/vnd.jupyter.widget-view+json": {
       "model_id": "1876bbc3b9f841c1b311caa87a370442",
       "version_major": 2,
       "version_minor": 0
      },
      "text/plain": [
       "Partitions:   0%|          | 0/3 [00:00<?, ?it/s]"
      ]
     },
     "metadata": {},
     "output_type": "display_data"
    },
    {
     "name": "stdout",
     "output_type": "stream",
     "text": [
      "\n",
      "Best Partition: 20/80\n",
      "Validation Accuracy: 0.91\n",
      "Test Accuracy: 0.90\n",
      "              precision    recall  f1-score   support\n",
      "\n",
      "           0       0.92      0.97      0.94       273\n",
      "           1       0.74      0.53      0.62        47\n",
      "\n",
      "    accuracy                           0.90       320\n",
      "   macro avg       0.83      0.75      0.78       320\n",
      "weighted avg       0.90      0.90      0.90       320\n",
      "\n"
     ]
    },
    {
     "data": {
      "image/png": "[encoded data removed]",
      "text/plain": [
       "<Figure size 640x480 with 2 Axes>"
      ]
     },
     "metadata": {},
     "output_type": "display_data"
    },
    {
     "name": "stdout",
     "output_type": "stream",
     "text": [
      "\n",
      "Training on 'White Wine Dataset' with target column 'quality'...\n"
     ]
    },
    {
     "data": {
      "application/vnd.jupyter.widget-view+json": {
       "model_id": "4f43c85a112047a59e7efd851b3a4d75",
       "version_major": 2,
       "version_minor": 0
      },
      "text/plain": [
       "Partitions:   0%|          | 0/3 [00:00<?, ?it/s]"
      ]
     },
     "metadata": {},
     "output_type": "display_data"
    },
    {
     "name": "stdout",
     "output_type": "stream",
     "text": [
      "\n",
      "Best Partition: 20/80\n",
      "Validation Accuracy: 0.87\n",
      "Test Accuracy: 0.89\n",
      "              precision    recall  f1-score   support\n",
      "\n",
      "           0       0.91      0.96      0.93       753\n",
      "           1       0.83      0.67      0.74       227\n",
      "\n",
      "    accuracy                           0.89       980\n",
      "   macro avg       0.87      0.82      0.84       980\n",
      "weighted avg       0.89      0.89      0.89       980\n",
      "\n"
     ]
    },
    {
     "data": {
      "image/png": "[encoded data removed]",
      "text/plain": [
       "<Figure size 640x480 with 2 Axes>"
      ]
     },
     "metadata": {},
     "output_type": "display_data"
    },
    {
     "name": "stdout",
     "output_type": "stream",
     "text": [
      "\n",
      "Training on 'Red and White Wine Dataset' with target column 'quality'...\n"
     ]
    },
    {
     "data": {
      "application/vnd.jupyter.widget-view+json": {
       "model_id": "85a5157218fc4f5b8d9599eeb9bf191d",
       "version_major": 2,
       "version_minor": 0
      },
      "text/plain": [
       "Partitions:   0%|          | 0/3 [00:00<?, ?it/s]"
      ]
     },
     "metadata": {},
     "output_type": "display_data"
    },
    {
     "name": "stdout",
     "output_type": "stream",
     "text": [
      "\n",
      "Best Partition: 20/80\n",
      "Validation Accuracy: 0.88\n",
      "Test Accuracy: 0.89\n",
      "              precision    recall  f1-score   support\n",
      "\n",
      "           0       0.90      0.96      0.93      1048\n",
      "           1       0.78      0.58      0.66       252\n",
      "\n",
      "    accuracy                           0.89      1300\n",
      "   macro avg       0.84      0.77      0.80      1300\n",
      "weighted avg       0.88      0.89      0.88      1300\n",
      "\n"
     ]
    },
    {
     "data": {
      "image/png": "[encoded data removed]",
      "text/plain": [
       "<Figure size 640x480 with 2 Axes>"
      ]
     },
     "metadata": {},
     "output_type": "display_data"
    }
   ],
   "source": [
    "run_model(train_random_forest, datasets)"
   ]
  },
  {
   "cell_type": "markdown",
   "metadata": {},
   "source": [
    "### Running logistic regression "
   ]
  },
  {
   "cell_type": "code",
   "execution_count": 14,
   "metadata": {},
   "outputs": [
    {
     "data": {
      "application/vnd.jupyter.widget-view+json": {
       "model_id": "72d38cdb345d4c00a004a4db86f1ed1f",
       "version_major": 2,
       "version_minor": 0
      },
      "text/plain": [
       "Datasets:   0%|          | 0/5 [00:00<?, ?it/s]"
      ]
     },
     "metadata": {},
     "output_type": "display_data"
    },
    {
     "name": "stdout",
     "output_type": "stream",
     "text": [
      "\n",
      "Training on 'Adult Dataset' with target column 'salary'...\n"
     ]
    },
    {
     "data": {
      "application/vnd.jupyter.widget-view+json": {
       "model_id": "b5066634e3ae41c99be6ebde5d1493c6",
       "version_major": 2,
       "version_minor": 0
      },
      "text/plain": [
       "Partitions:   0%|          | 0/3 [00:00<?, ?it/s]"
      ]
     },
     "metadata": {},
     "output_type": "display_data"
    },
    {
     "name": "stdout",
     "output_type": "stream",
     "text": [
      "\n",
      "Best test/train Partition: 20/80\n",
      "Cross-Validation Accuracy: 0.84\n",
      "Test Accuracy: 0.84\n",
      "              precision    recall  f1-score   support\n",
      "\n",
      "           0       0.87      0.92      0.89      4503\n",
      "           1       0.72      0.59      0.65      1530\n",
      "\n",
      "    accuracy                           0.84      6033\n",
      "   macro avg       0.79      0.75      0.77      6033\n",
      "weighted avg       0.83      0.84      0.83      6033\n",
      "\n"
     ]
    },
    {
     "data": {
      "image/png": "[encoded data removed]",
      "text/plain": [
       "<Figure size 640x480 with 2 Axes>"
      ]
     },
     "metadata": {},
     "output_type": "display_data"
    },
    {
     "name": "stdout",
     "output_type": "stream",
     "text": [
      "\n",
      "Training on 'Heart Dataset' with target column 'severity'...\n"
     ]
    },
    {
     "data": {
      "application/vnd.jupyter.widget-view+json": {
       "model_id": "6529497408034216b4e194bf4a77ddf9",
       "version_major": 2,
       "version_minor": 0
      },
      "text/plain": [
       "Partitions:   0%|          | 0/3 [00:00<?, ?it/s]"
      ]
     },
     "metadata": {},
     "output_type": "display_data"
    },
    {
     "name": "stdout",
     "output_type": "stream",
     "text": [
      "\n",
      "Best test/train Partition: 20/80\n",
      "Cross-Validation Accuracy: 0.82\n",
      "Test Accuracy: 0.90\n",
      "              precision    recall  f1-score   support\n",
      "\n",
      "           0       0.94      0.89      0.91        36\n",
      "           1       0.85      0.92      0.88        24\n",
      "\n",
      "    accuracy                           0.90        60\n",
      "   macro avg       0.89      0.90      0.90        60\n",
      "weighted avg       0.90      0.90      0.90        60\n",
      "\n"
     ]
    },
    {
     "data": {
      "image/png": "[encoded data removed]",
      "text/plain": [
       "<Figure size 640x480 with 2 Axes>"
      ]
     },
     "metadata": {},
     "output_type": "display_data"
    },
    {
     "name": "stdout",
     "output_type": "stream",
     "text": [
      "\n",
      "Training on 'Red Wine Dataset' with target column 'quality'...\n"
     ]
    },
    {
     "data": {
      "application/vnd.jupyter.widget-view+json": {
       "model_id": "ddfa2f4f28ce4b9d9b139f4345debcd3",
       "version_major": 2,
       "version_minor": 0
      },
      "text/plain": [
       "Partitions:   0%|          | 0/3 [00:00<?, ?it/s]"
      ]
     },
     "metadata": {},
     "output_type": "display_data"
    },
    {
     "name": "stdout",
     "output_type": "stream",
     "text": [
      "\n",
      "Best test/train Partition: 50/50\n",
      "Cross-Validation Accuracy: 0.88\n",
      "Test Accuracy: 0.88\n",
      "              precision    recall  f1-score   support\n",
      "\n",
      "           0       0.89      0.98      0.93       688\n",
      "           1       0.63      0.26      0.37       112\n",
      "\n",
      "    accuracy                           0.88       800\n",
      "   macro avg       0.76      0.62      0.65       800\n",
      "weighted avg       0.85      0.88      0.85       800\n",
      "\n"
     ]
    },
    {
     "data": {
      "image/png": "[encoded data removed]",
      "text/plain": [
       "<Figure size 640x480 with 2 Axes>"
      ]
     },
     "metadata": {},
     "output_type": "display_data"
    },
    {
     "name": "stdout",
     "output_type": "stream",
     "text": [
      "\n",
      "Training on 'White Wine Dataset' with target column 'quality'...\n"
     ]
    },
    {
     "data": {
      "application/vnd.jupyter.widget-view+json": {
       "model_id": "94cae7a748ec408689cf721b646aecea",
       "version_major": 2,
       "version_minor": 0
      },
      "text/plain": [
       "Partitions:   0%|          | 0/3 [00:00<?, ?it/s]"
      ]
     },
     "metadata": {},
     "output_type": "display_data"
    },
    {
     "name": "stdout",
     "output_type": "stream",
     "text": [
      "\n",
      "Best test/train Partition: 80/20\n",
      "Cross-Validation Accuracy: 0.82\n",
      "Test Accuracy: 0.80\n",
      "              precision    recall  f1-score   support\n",
      "\n",
      "           0       0.82      0.95      0.88      3055\n",
      "           1       0.59      0.27      0.37       864\n",
      "\n",
      "    accuracy                           0.80      3919\n",
      "   macro avg       0.71      0.61      0.63      3919\n",
      "weighted avg       0.77      0.80      0.77      3919\n",
      "\n"
     ]
    },
    {
     "data": {
      "image/png": "[encoded data removed]",
      "text/plain": [
       "<Figure size 640x480 with 2 Axes>"
      ]
     },
     "metadata": {},
     "output_type": "display_data"
    },
    {
     "name": "stdout",
     "output_type": "stream",
     "text": [
      "\n",
      "Training on 'Red and White Wine Dataset' with target column 'quality'...\n"
     ]
    },
    {
     "data": {
      "application/vnd.jupyter.widget-view+json": {
       "model_id": "cf54434cb4bb412ab235434c9a3ac9af",
       "version_major": 2,
       "version_minor": 0
      },
      "text/plain": [
       "Partitions:   0%|          | 0/3 [00:00<?, ?it/s]"
      ]
     },
     "metadata": {},
     "output_type": "display_data"
    },
    {
     "name": "stdout",
     "output_type": "stream",
     "text": [
      "\n",
      "Best test/train Partition: 20/80\n",
      "Cross-Validation Accuracy: 0.82\n",
      "Test Accuracy: 0.83\n",
      "              precision    recall  f1-score   support\n",
      "\n",
      "           0       0.84      0.96      0.90      1048\n",
      "           1       0.63      0.26      0.37       252\n",
      "\n",
      "    accuracy                           0.83      1300\n",
      "   macro avg       0.74      0.61      0.63      1300\n",
      "weighted avg       0.80      0.83      0.80      1300\n",
      "\n"
     ]
    },
    {
     "data": {
      "image/png": "[encoded data removed]",
      "text/plain": [
       "<Figure size 640x480 with 2 Axes>"
      ]
     },
     "metadata": {},
     "output_type": "display_data"
    }
   ],
   "source": [
    "run_model(train_logistic_regression, datasets)"
   ]
  },
  {
   "cell_type": "markdown",
   "metadata": {},
   "source": [
    "# Discussion"
   ]
  },
  {
   "cell_type": "markdown",
   "metadata": {},
   "source": [
    "### SVM Analysis\n",
    "20/80 split: 0.85 cva, 0.86 test accuracy\n",
    "50/50 split: 0.85 cva, 0.86 test accuracy\n",
    "80/20 split: 0.85 cva, 0.85 test accuracy"
   ]
  },
  {
   "cell_type": "markdown",
   "metadata": {},
   "source": [
    "### Random Forest Analysis\n",
    "type here"
   ]
  },
  {
   "cell_type": "markdown",
   "metadata": {},
   "source": [
    "### Logistic Regression Analysis\n",
    "type here"
   ]
  }
 ],
 "metadata": {
  "kernelspec": {
   "display_name": "cogs118a",
   "language": "python",
   "name": "python3"
  },
  "language_info": {
   "codemirror_mode": {
    "name": "ipython",
    "version": 3
   },
   "file_extension": ".py",
   "mimetype": "text/x-python",
   "name": "python",
   "nbconvert_exporter": "python",
   "pygments_lexer": "ipython3",
   "version": "3.11.10"
  }
 },
 "nbformat": 4,
 "nbformat_minor": 2
}
